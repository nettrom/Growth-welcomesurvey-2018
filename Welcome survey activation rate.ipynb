{
 "cells": [
  {
   "cell_type": "markdown",
   "metadata": {},
   "source": [
    "# Welcome Survey Activation Rate\n",
    "\n",
    "Investigation of first day activation rate for the A/B test of the Welcome Survey."
   ]
  },
  {
   "cell_type": "code",
   "execution_count": 1,
   "metadata": {},
   "outputs": [
    {
     "name": "stderr",
     "output_type": "stream",
     "text": [
      "You can find the source for `wmfdata` at https://github.com/neilpquinn/wmfdata\n"
     ]
    }
   ],
   "source": [
    "import datetime as dt\n",
    "import pandas as pd\n",
    "import wmfdata as wmf"
   ]
  },
  {
   "cell_type": "code",
   "execution_count": 2,
   "metadata": {},
   "outputs": [],
   "source": [
    "%load_ext rpy2.ipython"
   ]
  },
  {
   "cell_type": "code",
   "execution_count": 3,
   "metadata": {},
   "outputs": [
    {
     "name": "stderr",
     "output_type": "stream",
     "text": [
      "/home/nettrom/venv/lib/python3.5/site-packages/rpy2/rinterface/__init__.py:146: RRuntimeWarning: data.table 1.11.8  Latest news: r-datatable.com\n",
      "\n",
      "  warnings.warn(x, RRuntimeWarning)\n"
     ]
    }
   ],
   "source": [
    "%%R\n",
    "library(data.table)"
   ]
  },
  {
   "cell_type": "code",
   "execution_count": 4,
   "metadata": {},
   "outputs": [],
   "source": [
    "## Czech Wikipedia\n",
    "## User IDs of known users to exclude (Stephane, Elena, and Marshall's accounts)\n",
    "cs_known_users = set([322106, 339583, 341191, 341611, 433381, 433382, 433511, 404765, 421667,\n",
    "                      427625, 437386])\n",
    "\n",
    "cs_start_timestamp = '20181119195401'\n",
    "\n",
    "## We set the end timestamp to be the end of the first Monday in January, which is the most\n",
    "## recent whole week period since the survey was deployed.\n",
    "cs_end_timestamp = dt.datetime(2019, 1, 1, 0, 0, 0).strftime('%Y%m%d%H%M%S')\n",
    "\n",
    "## Korean Wikipedia\n",
    "## User IDs of known users to exclude\n",
    "ko_known_users = set([384066, 539296, 539299, 539302, 539303, 539304, 539305, 539306, 539307,\n",
    "                      539298, 416361, 416360, 413162, 495265, 518393, 518394, 518396, 530285,\n",
    "                      531579, 531785, 536786, 536787, 542720, 542721, 542722, 543192, 543193,\n",
    "                      544145, 544283])\n",
    "\n",
    "## Timestamp of the user registration of the first user who reasonably saw the survey\n",
    "ko_start_timestamp = '20181119201024'\n",
    "ko_end_timestamp = dt.datetime(2019, 1, 1, 0, 0, 0).strftime('%Y%m%d%H%M%S')"
   ]
  },
  {
   "cell_type": "code",
   "execution_count": 5,
   "metadata": {},
   "outputs": [],
   "source": [
    "## Grab the user IDs of all of Elena's and Marshall's accounts so they can be added to the\n",
    "## exclusion lists.\n",
    "\n",
    "known_user_query = '''\n",
    "SELECT user_id\n",
    "FROM {wiki}.user\n",
    "WHERE user_registration >= \"{start_timestamp}\"\n",
    "AND user_name LIKE \"{name_pattern}%\"\n",
    "'''\n",
    "\n",
    "cs_known = wmf.mariadb.run(known_user_query.format(\n",
    "  wiki = 'cswiki',\n",
    "  start_timestamp = cs_start_timestamp,\n",
    "  name_pattern = \"MMiller\"),\n",
    "                          fmt = 'raw')\n",
    "\n",
    "## Union the two sets\n",
    "cs_known_users = cs_known_users | set([r[0] for r in cs_known])\n",
    "\n",
    "cs_known = wmf.mariadb.run(known_user_query.format(\n",
    "  wiki = 'cswiki',\n",
    "  start_timestamp = cs_start_timestamp,\n",
    "  name_pattern = \"Zilant\"),\n",
    "                          fmt = 'raw')\n",
    "\n",
    "cs_known_users = cs_known_users | set([r[0] for r in cs_known])\n",
    "\n",
    "ko_known = wmf.mariadb.run(known_user_query.format(\n",
    "  wiki = 'kowiki',\n",
    "  start_timestamp = cs_start_timestamp,\n",
    "  name_pattern = \"MMiller\"),\n",
    "                          fmt = 'raw')\n",
    "\n",
    "## Union the two sets\n",
    "ko_known_users = ko_known_users | set([r[0] for r in ko_known])\n",
    "\n",
    "ko_known = wmf.mariadb.run(known_user_query.format(\n",
    "  wiki = 'kowiki',\n",
    "  start_timestamp = cs_start_timestamp,\n",
    "  name_pattern = \"Zilant\"),\n",
    "                          fmt = 'raw')\n",
    "\n",
    "ko_known_users = ko_known_users | set([r[0] for r in ko_known])"
   ]
  },
  {
   "cell_type": "code",
   "execution_count": 7,
   "metadata": {},
   "outputs": [],
   "source": [
    "## Step 1: get a list of accounts with information about their creation from the\n",
    "## ServerSideAccountCreation schema, filtering out API-created accounts.\n",
    "\n",
    "## Name of the schema we're querying\n",
    "table_name = 'log.ServerSideAccountCreation_17719237'\n",
    "\n",
    "## Query to get accounts created through the API with information about mobile/desktop\n",
    "mob_query = '''SELECT event_userid, event_displayMobile\n",
    "FROM {ssac_table}\n",
    "WHERE timestamp >= \"{start_timestamp}\"\n",
    "AND timestamp < \"{end_timestamp}\"\n",
    "AND event_isApi = 0\n",
    "AND event_isSelfMade = 1\n",
    "AND wiki = \"{wiki}\"\n",
    "'''\n",
    "\n",
    "cs_mob_users = wmf.mariadb.run(mob_query.format(ssac_table = table_name,\n",
    "                                                    start_timestamp = cs_start_timestamp,\n",
    "                                                    end_timestamp = cs_end_timestamp,\n",
    "                                                    wiki = 'cswiki'),\n",
    "                              host = \"logs\")\n",
    "ko_mob_users = wmf.mariadb.run(mob_query.format(ssac_table = table_name,\n",
    "                                                    start_timestamp = ko_start_timestamp,\n",
    "                                                    end_timestamp = ko_end_timestamp,\n",
    "                                                    wiki = 'kowiki'),\n",
    "                              host = \"logs\")"
   ]
  },
  {
   "cell_type": "code",
   "execution_count": 8,
   "metadata": {},
   "outputs": [],
   "source": [
    "## Step 2: Get data on the group assignment for these users.\n",
    "\n",
    "group_query = '''\n",
    "SELECT up_user,\n",
    "  CASE\n",
    "    WHEN up_value LIKE \"%exp1_group2%\" THEN \"control\"\n",
    "    WHEN up_value LIKE \"%exp1_group1%\" THEN \"target\"\n",
    "  END AS exp_group\n",
    "FROM {wiki}.user\n",
    "JOIN {wiki}.user_properties\n",
    "ON user_id = up_user\n",
    "JOIN {wiki}.logging\n",
    "ON up_user = log_user\n",
    "WHERE user_registration >= \"{start_timestamp}\"\n",
    "AND user_registration < \"{end_timestamp}\"\n",
    "AND up_property = \"welcomesurvey-responses\"\n",
    "AND up_user NOT IN ({id_list})\n",
    "AND up_value <> \"\"\n",
    "AND log_type = \"newusers\"\n",
    "AND log_action != \"autocreate\"\n",
    "'''\n",
    "\n",
    "cs_groups_raw = wmf.mariadb.run(group_query.format(\n",
    "    wiki = 'cswiki',\n",
    "    start_timestamp = cs_start_timestamp,\n",
    "    end_timestamp = cs_end_timestamp,\n",
    "    id_list = \",\".join([str(id) for id in cs_known_users])))\n",
    "\n",
    "ko_groups_raw = wmf.mariadb.run(group_query.format(\n",
    "    wiki = 'kowiki',\n",
    "    start_timestamp = ko_start_timestamp,\n",
    "    end_timestamp = ko_end_timestamp,\n",
    "    id_list = \",\".join([str(id) for id in ko_known_users])))"
   ]
  },
  {
   "cell_type": "code",
   "execution_count": 9,
   "metadata": {},
   "outputs": [],
   "source": [
    "## Now join cs_mob_users and cs_groups on user_id and up_user\n",
    "cs_groups = pd.merge(cs_mob_users, cs_groups_raw, left_on='event_userid', right_on='up_user')\n",
    "ko_groups = pd.merge(ko_mob_users, ko_groups_raw, left_on='event_userid', right_on='up_user')"
   ]
  },
  {
   "cell_type": "code",
   "execution_count": 29,
   "metadata": {},
   "outputs": [],
   "source": [
    "## Step 3: Count the number of edits within the first 24 hours.\n",
    "\n",
    "## FIXME: also check the archive table!\n",
    "\n",
    "editcount_query = '''\n",
    "SELECT user_id, SUM(num_edits) AS num_edits\n",
    "FROM ((SELECT user_id, COUNT(rev_id) AS num_edits\n",
    "  FROM {wiki}.user\n",
    "  JOIN {wiki}.revision\n",
    "  ON user_id=rev_user\n",
    "  WHERE rev_timestamp > user_registration\n",
    "  AND rev_timestamp < DATE_FORMAT(\n",
    "    DATE_ADD(\n",
    "        STR_TO_DATE(user_registration,\n",
    "                    \"%Y%m%d%H%i%S\"),\n",
    "        INTERVAL 1 DAY),\n",
    "    \"%Y%m%d%H%i%S\")\n",
    "  AND user_id IN ({id_list})\n",
    "  GROUP BY user_id)\n",
    "UNION ALL\n",
    "(SELECT user_id, COUNT(ar_id) AS num_edits\n",
    "  FROM {wiki}.user\n",
    "  JOIN {wiki}.archive\n",
    "  ON user_id=ar_user\n",
    "  WHERE ar_timestamp > user_registration\n",
    "  AND ar_timestamp < DATE_FORMAT(\n",
    "    DATE_ADD(\n",
    "        STR_TO_DATE(user_registration,\n",
    "                    \"%Y%m%d%H%i%S\"),\n",
    "        INTERVAL 1 DAY),\n",
    "    \"%Y%m%d%H%i%S\")\n",
    "  AND user_id IN ({id_list})\n",
    "  GROUP BY user_id)) AS users_edits\n",
    "GROUP BY user_id\n",
    "'''\n",
    "\n",
    "cs_counts_raw = wmf.mariadb.run(editcount_query.format(\n",
    "    wiki = 'cswiki',\n",
    "    id_list = \",\".join([str(id) for id in cs_groups['event_userid']])))\n",
    "\n",
    "ko_counts_raw = wmf.mariadb.run(editcount_query.format(\n",
    "    wiki = 'kowiki',\n",
    "    id_list = \",\".join([str(id) for id in ko_groups['event_userid']])))\n"
   ]
  },
  {
   "cell_type": "code",
   "execution_count": 30,
   "metadata": {},
   "outputs": [],
   "source": [
    "## Left join the group assignment frame with the counts frame\n",
    "\n",
    "cs_counts = pd.merge(cs_groups, cs_counts_raw, left_on='event_userid', right_on='user_id',\n",
    "                    how='left').fillna(0)\n",
    "ko_counts = pd.merge(ko_groups, ko_counts_raw, left_on='event_userid', right_on='user_id',\n",
    "                    how='left').fillna(0)\n"
   ]
  },
  {
   "cell_type": "markdown",
   "metadata": {},
   "source": [
    "In the tables below: exp_group \"True\" means the user was in the survey group, and num_edits \"True\" means the user made at least one edit within 24 hours after registration."
   ]
  },
  {
   "cell_type": "code",
   "execution_count": 31,
   "metadata": {},
   "outputs": [
    {
     "data": {
      "text/html": [
       "<div>\n",
       "<style scoped>\n",
       "    .dataframe tbody tr th:only-of-type {\n",
       "        vertical-align: middle;\n",
       "    }\n",
       "\n",
       "    .dataframe tbody tr th {\n",
       "        vertical-align: top;\n",
       "    }\n",
       "\n",
       "    .dataframe thead th {\n",
       "        text-align: right;\n",
       "    }\n",
       "</style>\n",
       "<table border=\"1\" class=\"dataframe\">\n",
       "  <thead>\n",
       "    <tr style=\"text-align: right;\">\n",
       "      <th>num_edits</th>\n",
       "      <th>False</th>\n",
       "      <th>True</th>\n",
       "      <th>Total</th>\n",
       "    </tr>\n",
       "    <tr>\n",
       "      <th>exp_group</th>\n",
       "      <th></th>\n",
       "      <th></th>\n",
       "      <th></th>\n",
       "    </tr>\n",
       "  </thead>\n",
       "  <tbody>\n",
       "    <tr>\n",
       "      <th>False</th>\n",
       "      <td>526</td>\n",
       "      <td>406</td>\n",
       "      <td>932</td>\n",
       "    </tr>\n",
       "    <tr>\n",
       "      <th>True</th>\n",
       "      <td>508</td>\n",
       "      <td>418</td>\n",
       "      <td>926</td>\n",
       "    </tr>\n",
       "    <tr>\n",
       "      <th>Total</th>\n",
       "      <td>1034</td>\n",
       "      <td>824</td>\n",
       "      <td>1858</td>\n",
       "    </tr>\n",
       "  </tbody>\n",
       "</table>\n",
       "</div>"
      ],
      "text/plain": [
       "num_edits  False  True  Total\n",
       "exp_group                    \n",
       "False        526   406    932\n",
       "True         508   418    926\n",
       "Total       1034   824   1858"
      ]
     },
     "execution_count": 31,
     "metadata": {},
     "output_type": "execute_result"
    }
   ],
   "source": [
    "pd.crosstab(cs_counts.exp_group == 'target', cs_counts.num_edits > 0,\n",
    "            margins=True, margins_name=\"Total\")"
   ]
  },
  {
   "cell_type": "code",
   "execution_count": 32,
   "metadata": {},
   "outputs": [
    {
     "data": {
      "text/html": [
       "<div>\n",
       "<style scoped>\n",
       "    .dataframe tbody tr th:only-of-type {\n",
       "        vertical-align: middle;\n",
       "    }\n",
       "\n",
       "    .dataframe tbody tr th {\n",
       "        vertical-align: top;\n",
       "    }\n",
       "\n",
       "    .dataframe thead th {\n",
       "        text-align: right;\n",
       "    }\n",
       "</style>\n",
       "<table border=\"1\" class=\"dataframe\">\n",
       "  <thead>\n",
       "    <tr style=\"text-align: right;\">\n",
       "      <th>num_edits</th>\n",
       "      <th>False</th>\n",
       "      <th>True</th>\n",
       "    </tr>\n",
       "    <tr>\n",
       "      <th>exp_group</th>\n",
       "      <th></th>\n",
       "      <th></th>\n",
       "    </tr>\n",
       "  </thead>\n",
       "  <tbody>\n",
       "    <tr>\n",
       "      <th>False</th>\n",
       "      <td>56.4</td>\n",
       "      <td>43.6</td>\n",
       "    </tr>\n",
       "    <tr>\n",
       "      <th>True</th>\n",
       "      <td>54.9</td>\n",
       "      <td>45.1</td>\n",
       "    </tr>\n",
       "    <tr>\n",
       "      <th>Total</th>\n",
       "      <td>55.7</td>\n",
       "      <td>44.3</td>\n",
       "    </tr>\n",
       "  </tbody>\n",
       "</table>\n",
       "</div>"
      ],
      "text/plain": [
       "num_edits  False  True \n",
       "exp_group              \n",
       "False       56.4   43.6\n",
       "True        54.9   45.1\n",
       "Total       55.7   44.3"
      ]
     },
     "execution_count": 32,
     "metadata": {},
     "output_type": "execute_result"
    }
   ],
   "source": [
    "pd.crosstab(cs_counts.exp_group == 'target', cs_counts.num_edits > 0,\n",
    "            margins=True, margins_name=\"Total\", normalize = 'index').round(3)*100"
   ]
  },
  {
   "cell_type": "code",
   "execution_count": 33,
   "metadata": {},
   "outputs": [
    {
     "data": {
      "text/html": [
       "<div>\n",
       "<style scoped>\n",
       "    .dataframe tbody tr th:only-of-type {\n",
       "        vertical-align: middle;\n",
       "    }\n",
       "\n",
       "    .dataframe tbody tr th {\n",
       "        vertical-align: top;\n",
       "    }\n",
       "\n",
       "    .dataframe thead th {\n",
       "        text-align: right;\n",
       "    }\n",
       "</style>\n",
       "<table border=\"1\" class=\"dataframe\">\n",
       "  <thead>\n",
       "    <tr style=\"text-align: right;\">\n",
       "      <th>num_edits</th>\n",
       "      <th>False</th>\n",
       "      <th>True</th>\n",
       "      <th>Total</th>\n",
       "    </tr>\n",
       "    <tr>\n",
       "      <th>exp_group</th>\n",
       "      <th></th>\n",
       "      <th></th>\n",
       "      <th></th>\n",
       "    </tr>\n",
       "  </thead>\n",
       "  <tbody>\n",
       "    <tr>\n",
       "      <th>False</th>\n",
       "      <td>1556</td>\n",
       "      <td>519</td>\n",
       "      <td>2075</td>\n",
       "    </tr>\n",
       "    <tr>\n",
       "      <th>True</th>\n",
       "      <td>1611</td>\n",
       "      <td>473</td>\n",
       "      <td>2084</td>\n",
       "    </tr>\n",
       "    <tr>\n",
       "      <th>Total</th>\n",
       "      <td>3167</td>\n",
       "      <td>992</td>\n",
       "      <td>4159</td>\n",
       "    </tr>\n",
       "  </tbody>\n",
       "</table>\n",
       "</div>"
      ],
      "text/plain": [
       "num_edits  False  True  Total\n",
       "exp_group                    \n",
       "False       1556   519   2075\n",
       "True        1611   473   2084\n",
       "Total       3167   992   4159"
      ]
     },
     "execution_count": 33,
     "metadata": {},
     "output_type": "execute_result"
    }
   ],
   "source": [
    "pd.crosstab(ko_counts.exp_group == 'target', ko_counts.num_edits > 0,\n",
    "           margins=True, margins_name=\"Total\")"
   ]
  },
  {
   "cell_type": "code",
   "execution_count": 34,
   "metadata": {},
   "outputs": [
    {
     "data": {
      "text/html": [
       "<div>\n",
       "<style scoped>\n",
       "    .dataframe tbody tr th:only-of-type {\n",
       "        vertical-align: middle;\n",
       "    }\n",
       "\n",
       "    .dataframe tbody tr th {\n",
       "        vertical-align: top;\n",
       "    }\n",
       "\n",
       "    .dataframe thead th {\n",
       "        text-align: right;\n",
       "    }\n",
       "</style>\n",
       "<table border=\"1\" class=\"dataframe\">\n",
       "  <thead>\n",
       "    <tr style=\"text-align: right;\">\n",
       "      <th>num_edits</th>\n",
       "      <th>False</th>\n",
       "      <th>True</th>\n",
       "    </tr>\n",
       "    <tr>\n",
       "      <th>exp_group</th>\n",
       "      <th></th>\n",
       "      <th></th>\n",
       "    </tr>\n",
       "  </thead>\n",
       "  <tbody>\n",
       "    <tr>\n",
       "      <th>False</th>\n",
       "      <td>75.0</td>\n",
       "      <td>25.0</td>\n",
       "    </tr>\n",
       "    <tr>\n",
       "      <th>True</th>\n",
       "      <td>77.3</td>\n",
       "      <td>22.7</td>\n",
       "    </tr>\n",
       "    <tr>\n",
       "      <th>Total</th>\n",
       "      <td>76.1</td>\n",
       "      <td>23.9</td>\n",
       "    </tr>\n",
       "  </tbody>\n",
       "</table>\n",
       "</div>"
      ],
      "text/plain": [
       "num_edits  False  True \n",
       "exp_group              \n",
       "False       75.0   25.0\n",
       "True        77.3   22.7\n",
       "Total       76.1   23.9"
      ]
     },
     "execution_count": 34,
     "metadata": {},
     "output_type": "execute_result"
    }
   ],
   "source": [
    "pd.crosstab(ko_counts.exp_group == 'target', ko_counts.num_edits > 0,\n",
    "           margins=True, margins_name=\"Total\", normalize = 'index').round(3)*100"
   ]
  },
  {
   "cell_type": "code",
   "execution_count": 35,
   "metadata": {},
   "outputs": [
    {
     "name": "stderr",
     "output_type": "stream",
     "text": [
      "/home/nettrom/venv/lib/python3.5/site-packages/rpy2/robjects/pandas2ri.py:191: FutureWarning: from_items is deprecated. Please use DataFrame.from_dict(dict(items), ...) instead. DataFrame.from_dict(OrderedDict(items)) may be used to preserve the key order.\n",
      "  res = PandasDataFrame.from_items(items)\n"
     ]
    },
    {
     "data": {
      "text/plain": [
       "\n",
       "\t2-sample test for equality of proportions with continuity correction\n",
       "\n",
       "data:  c(n_edited_control, n_edited_survey) out of c(n_users_control, n_users_survey)\n",
       "X-squared = 0.40697, df = 1, p-value = 0.5235\n",
       "alternative hypothesis: two.sided\n",
       "95 percent confidence interval:\n",
       " -0.06203174  0.03046860\n",
       "sample estimates:\n",
       "   prop 1    prop 2 \n",
       "0.4356223 0.4514039 \n",
       "\n"
      ]
     },
     "metadata": {},
     "output_type": "display_data"
    }
   ],
   "source": [
    "%%R -i cs_counts\n",
    "\n",
    "cs_counts = data.table(cs_counts)\n",
    "\n",
    "n_edited_control = length(cs_counts[exp_group == 'control' & num_edits > 0]$user_id);\n",
    "n_edited_survey = length(cs_counts[exp_group == 'target' & num_edits > 0]$user_id);\n",
    "\n",
    "n_users_control = length(cs_counts[exp_group == 'control']$user_id);\n",
    "n_users_survey = length(cs_counts[exp_group == 'target']$user_id);\n",
    "\n",
    "prop.test(\n",
    "    c(n_edited_control, n_edited_survey),\n",
    "    c(n_users_control, n_users_survey)  \n",
    ");"
   ]
  },
  {
   "cell_type": "code",
   "execution_count": 36,
   "metadata": {},
   "outputs": [
    {
     "data": {
      "text/plain": [
       "\n",
       "\t2-sample test for equality of proportions with continuity correction\n",
       "\n",
       "data:  c(n_edited_control, n_edited_survey) out of c(n_users_control, n_users_survey)\n",
       "X-squared = 2.9426, df = 1, p-value = 0.08627\n",
       "alternative hypothesis: two.sided\n",
       "95 percent confidence interval:\n",
       " -0.003224608  0.049530831\n",
       "sample estimates:\n",
       "   prop 1    prop 2 \n",
       "0.2501205 0.2269674 \n",
       "\n"
      ]
     },
     "metadata": {},
     "output_type": "display_data"
    }
   ],
   "source": [
    "%%R -i ko_counts\n",
    "\n",
    "ko_counts = data.table(ko_counts)\n",
    "\n",
    "n_edited_control = length(ko_counts[exp_group == 'control' & num_edits > 0]$user_id);\n",
    "n_edited_survey = length(ko_counts[exp_group == 'target' & num_edits > 0]$user_id);\n",
    "\n",
    "n_users_control = length(ko_counts[exp_group == 'control']$user_id);\n",
    "n_users_survey = length(ko_counts[exp_group == 'target']$user_id);\n",
    "\n",
    "prop.test(\n",
    "    c(n_edited_control, n_edited_survey),\n",
    "    c(n_users_control, n_users_survey)  \n",
    ");"
   ]
  },
  {
   "cell_type": "markdown",
   "metadata": {},
   "source": [
    "# Conclusion\n",
    "\n",
    "For both Wikipedias we find a small but not statistically significant difference in activation rate between users who saw the survey and those who did not.\n",
    "\n",
    "The number of registrations on Korean Wikipedia during this six week period is much higher than expected. Based on our analysis of historical data, we would expect it to be lower by about 1,000 users. We also find that the activation rate (average of 23.2%) is much lower than our historical analysis suggested. It seems that Korean Wikipedia has attracted a lot of registrations, but ones that do not make any edits.\n",
    "\n",
    "# Side quest"
   ]
  },
  {
   "cell_type": "code",
   "execution_count": 18,
   "metadata": {},
   "outputs": [],
   "source": [
    "## Side quest: Grab the number of edits since registration for all users.\n",
    "\n",
    "totaledits_query = '''\n",
    "SELECT user_id, count(rev_id) AS num_edits\n",
    "FROM {wiki}.user\n",
    "JOIN {wiki}.revision\n",
    "ON user_id=rev_user\n",
    "WHERE user_id IN ({id_list})\n",
    "GROUP BY user_id\n",
    "'''\n",
    "\n",
    "cs_totalcounts_raw = wmf.mariadb.run(totaledits_query.format(\n",
    "    wiki = 'cswiki',\n",
    "    id_list = \",\".join([str(id) for id in cs_groups['event_userid']])))\n",
    "\n",
    "ko_totalcounts_raw = wmf.mariadb.run(editcount_query.format(\n",
    "    wiki = 'kowiki',\n",
    "    id_list = \",\".join([str(id) for id in ko_groups['event_userid']])))"
   ]
  },
  {
   "cell_type": "code",
   "execution_count": 19,
   "metadata": {},
   "outputs": [],
   "source": [
    "## Left join the group assignment frame with the counts frame\n",
    "\n",
    "cs_totalcounts = pd.merge(cs_groups, cs_totalcounts_raw, left_on='event_userid', right_on='user_id',\n",
    "                    how='left').fillna(0)\n",
    "ko_totalcounts = pd.merge(ko_groups, ko_totalcounts_raw, left_on='event_userid', right_on='user_id',\n",
    "                    how='left').fillna(0)"
   ]
  },
  {
   "cell_type": "code",
   "execution_count": 20,
   "metadata": {},
   "outputs": [
    {
     "data": {
      "text/html": [
       "<div>\n",
       "<style scoped>\n",
       "    .dataframe tbody tr th:only-of-type {\n",
       "        vertical-align: middle;\n",
       "    }\n",
       "\n",
       "    .dataframe tbody tr th {\n",
       "        vertical-align: top;\n",
       "    }\n",
       "\n",
       "    .dataframe thead th {\n",
       "        text-align: right;\n",
       "    }\n",
       "</style>\n",
       "<table border=\"1\" class=\"dataframe\">\n",
       "  <thead>\n",
       "    <tr style=\"text-align: right;\">\n",
       "      <th></th>\n",
       "      <th>count</th>\n",
       "      <th>mean</th>\n",
       "      <th>std</th>\n",
       "      <th>min</th>\n",
       "      <th>25%</th>\n",
       "      <th>50%</th>\n",
       "      <th>75%</th>\n",
       "      <th>max</th>\n",
       "    </tr>\n",
       "    <tr>\n",
       "      <th>exp_group</th>\n",
       "      <th></th>\n",
       "      <th></th>\n",
       "      <th></th>\n",
       "      <th></th>\n",
       "      <th></th>\n",
       "      <th></th>\n",
       "      <th></th>\n",
       "      <th></th>\n",
       "    </tr>\n",
       "  </thead>\n",
       "  <tbody>\n",
       "    <tr>\n",
       "      <th>control</th>\n",
       "      <td>932.0</td>\n",
       "      <td>1.344421</td>\n",
       "      <td>3.410737</td>\n",
       "      <td>0.0</td>\n",
       "      <td>0.0</td>\n",
       "      <td>0.0</td>\n",
       "      <td>1.0</td>\n",
       "      <td>34.0</td>\n",
       "    </tr>\n",
       "    <tr>\n",
       "      <th>target</th>\n",
       "      <td>926.0</td>\n",
       "      <td>1.370410</td>\n",
       "      <td>4.436939</td>\n",
       "      <td>0.0</td>\n",
       "      <td>0.0</td>\n",
       "      <td>0.0</td>\n",
       "      <td>1.0</td>\n",
       "      <td>97.0</td>\n",
       "    </tr>\n",
       "  </tbody>\n",
       "</table>\n",
       "</div>"
      ],
      "text/plain": [
       "           count      mean       std  min  25%  50%  75%   max\n",
       "exp_group                                                     \n",
       "control    932.0  1.344421  3.410737  0.0  0.0  0.0  1.0  34.0\n",
       "target     926.0  1.370410  4.436939  0.0  0.0  0.0  1.0  97.0"
      ]
     },
     "execution_count": 20,
     "metadata": {},
     "output_type": "execute_result"
    }
   ],
   "source": [
    "cs_totalcounts.sort_values('num_edits').groupby('exp_group')['num_edits'].describe()"
   ]
  },
  {
   "cell_type": "code",
   "execution_count": 21,
   "metadata": {},
   "outputs": [
    {
     "data": {
      "text/html": [
       "<div>\n",
       "<style scoped>\n",
       "    .dataframe tbody tr th:only-of-type {\n",
       "        vertical-align: middle;\n",
       "    }\n",
       "\n",
       "    .dataframe tbody tr th {\n",
       "        vertical-align: top;\n",
       "    }\n",
       "\n",
       "    .dataframe thead th {\n",
       "        text-align: right;\n",
       "    }\n",
       "</style>\n",
       "<table border=\"1\" class=\"dataframe\">\n",
       "  <thead>\n",
       "    <tr style=\"text-align: right;\">\n",
       "      <th></th>\n",
       "      <th>count</th>\n",
       "      <th>mean</th>\n",
       "      <th>std</th>\n",
       "      <th>min</th>\n",
       "      <th>25%</th>\n",
       "      <th>50%</th>\n",
       "      <th>75%</th>\n",
       "      <th>max</th>\n",
       "    </tr>\n",
       "    <tr>\n",
       "      <th>exp_group</th>\n",
       "      <th></th>\n",
       "      <th></th>\n",
       "      <th></th>\n",
       "      <th></th>\n",
       "      <th></th>\n",
       "      <th></th>\n",
       "      <th></th>\n",
       "      <th></th>\n",
       "    </tr>\n",
       "  </thead>\n",
       "  <tbody>\n",
       "    <tr>\n",
       "      <th>control</th>\n",
       "      <td>2075.0</td>\n",
       "      <td>0.957590</td>\n",
       "      <td>3.562384</td>\n",
       "      <td>0.0</td>\n",
       "      <td>0.0</td>\n",
       "      <td>0.0</td>\n",
       "      <td>0.0</td>\n",
       "      <td>57.0</td>\n",
       "    </tr>\n",
       "    <tr>\n",
       "      <th>target</th>\n",
       "      <td>2084.0</td>\n",
       "      <td>0.930422</td>\n",
       "      <td>4.048607</td>\n",
       "      <td>0.0</td>\n",
       "      <td>0.0</td>\n",
       "      <td>0.0</td>\n",
       "      <td>0.0</td>\n",
       "      <td>88.0</td>\n",
       "    </tr>\n",
       "  </tbody>\n",
       "</table>\n",
       "</div>"
      ],
      "text/plain": [
       "            count      mean       std  min  25%  50%  75%   max\n",
       "exp_group                                                      \n",
       "control    2075.0  0.957590  3.562384  0.0  0.0  0.0  0.0  57.0\n",
       "target     2084.0  0.930422  4.048607  0.0  0.0  0.0  0.0  88.0"
      ]
     },
     "execution_count": 21,
     "metadata": {},
     "output_type": "execute_result"
    }
   ],
   "source": [
    "ko_totalcounts.sort_values('num_edits').groupby('exp_group')['num_edits'].describe()"
   ]
  },
  {
   "cell_type": "code",
   "execution_count": 22,
   "metadata": {},
   "outputs": [
    {
     "data": {
      "text/plain": [
       "exp_group\n",
       "control    1253.0\n",
       "target     1269.0\n",
       "Name: num_edits, dtype: float64"
      ]
     },
     "execution_count": 22,
     "metadata": {},
     "output_type": "execute_result"
    }
   ],
   "source": [
    "cs_totalcounts.groupby('exp_group')['num_edits'].sum()"
   ]
  },
  {
   "cell_type": "code",
   "execution_count": 23,
   "metadata": {},
   "outputs": [
    {
     "data": {
      "text/plain": [
       "exp_group\n",
       "control    1987.0\n",
       "target     1939.0\n",
       "Name: num_edits, dtype: float64"
      ]
     },
     "execution_count": 23,
     "metadata": {},
     "output_type": "execute_result"
    }
   ],
   "source": [
    "ko_totalcounts.groupby('exp_group')['num_edits'].sum()"
   ]
  }
 ],
 "metadata": {
  "kernelspec": {
   "display_name": "Python 3",
   "language": "python",
   "name": "python3"
  },
  "language_info": {
   "codemirror_mode": {
    "name": "ipython",
    "version": 3
   },
   "file_extension": ".py",
   "mimetype": "text/x-python",
   "name": "python",
   "nbconvert_exporter": "python",
   "pygments_lexer": "ipython3",
   "version": "3.5.3"
  }
 },
 "nbformat": 4,
 "nbformat_minor": 2
}

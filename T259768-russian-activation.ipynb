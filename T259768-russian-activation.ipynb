{
 "cells": [
  {
   "cell_type": "markdown",
   "metadata": {},
   "source": [
    "# Welcome Survey and Activation in Russian Wikipedia\n",
    "\n",
    "The Welcome Survey was deployed as an A/B test on Russian Wikipedia in order to determine if it has an effect on editor activation. The phab task for this analysis is [T259768](https://phabricator.wikimedia.org/T259768)."
   ]
  },
  {
   "cell_type": "code",
   "execution_count": 46,
   "metadata": {},
   "outputs": [],
   "source": [
    "import datetime as dt\n",
    "\n",
    "import numpy as np\n",
    "import pandas as pd\n",
    "\n",
    "from scipy import stats\n",
    "\n",
    "from collections import defaultdict\n",
    "\n",
    "from wmfdata import spark, mariadb\n",
    "from growth import utils"
   ]
  },
  {
   "cell_type": "markdown",
   "metadata": {},
   "source": [
    "## Group assignment\n",
    "\n",
    "Per [T257490#6395284](https://phabricator.wikimedia.org/T257490#6395284), this was deployed with 20% of newcomers not getting the survey. Let's start off by making sure that we have randomization between the Welcome Survey and users getting the Growth features. While we should be using all registrations as the basis for this, we'll use all Welcome Survey responses since that's the dataset we'll be aggregating over anyway."
   ]
  },
  {
   "cell_type": "code",
   "execution_count": 7,
   "metadata": {},
   "outputs": [],
   "source": [
    "group_stats_query = '''\n",
    "WITH wc_groups AS (\n",
    "  SELECT\n",
    "    up_user,\n",
    "    CAST(json_value(up_value, \"$._group\") AS CHAR CHARACTER SET utf8) AS group_name\n",
    "  FROM user_properties\n",
    "  WHERE up_property = \"welcomesurvey-responses\"\n",
    "),\n",
    "hp_users AS (\n",
    "  SELECT\n",
    "    up_user,\n",
    "    CAST(up_value AS UNSIGNED INTEGER) AS hp_enabled\n",
    "  FROM user_properties\n",
    "  WHERE up_property = \"growthexperiments-homepage-enable\"\n",
    ")\n",
    "SELECT\n",
    "  wc_groups.group_name AS wc_group,\n",
    "  IF(hp_users.hp_enabled IS NOT NULL, 1, 0) AS hp_group,\n",
    "  SUM(1) AS num_users\n",
    "FROM wc_groups\n",
    "LEFT JOIN hp_users\n",
    "ON wc_groups.up_user = hp_users.up_user\n",
    "GROUP BY wc_group, hp_group\n",
    "'''"
   ]
  },
  {
   "cell_type": "code",
   "execution_count": 8,
   "metadata": {},
   "outputs": [],
   "source": [
    "group_assignment_stats = mariadb.run(group_stats_query, 'ruwiki')"
   ]
  },
  {
   "cell_type": "code",
   "execution_count": 11,
   "metadata": {},
   "outputs": [
    {
     "data": {
      "text/html": [
       "<div>\n",
       "<style scoped>\n",
       "    .dataframe tbody tr th:only-of-type {\n",
       "        vertical-align: middle;\n",
       "    }\n",
       "\n",
       "    .dataframe tbody tr th {\n",
       "        vertical-align: top;\n",
       "    }\n",
       "\n",
       "    .dataframe thead th {\n",
       "        text-align: right;\n",
       "    }\n",
       "</style>\n",
       "<table border=\"1\" class=\"dataframe\">\n",
       "  <thead>\n",
       "    <tr style=\"text-align: right;\">\n",
       "      <th></th>\n",
       "      <th>wc_group</th>\n",
       "      <th>hp_group</th>\n",
       "      <th>num_users</th>\n",
       "      <th>percent</th>\n",
       "    </tr>\n",
       "  </thead>\n",
       "  <tbody>\n",
       "    <tr>\n",
       "      <th>0</th>\n",
       "      <td>exp2_target_specialpage</td>\n",
       "      <td>0</td>\n",
       "      <td>6201.0</td>\n",
       "      <td>20.1</td>\n",
       "    </tr>\n",
       "    <tr>\n",
       "      <th>1</th>\n",
       "      <td>exp2_target_specialpage</td>\n",
       "      <td>1</td>\n",
       "      <td>24617.0</td>\n",
       "      <td>79.9</td>\n",
       "    </tr>\n",
       "    <tr>\n",
       "      <th>2</th>\n",
       "      <td>NONE</td>\n",
       "      <td>0</td>\n",
       "      <td>1522.0</td>\n",
       "      <td>19.5</td>\n",
       "    </tr>\n",
       "    <tr>\n",
       "      <th>3</th>\n",
       "      <td>NONE</td>\n",
       "      <td>1</td>\n",
       "      <td>6264.0</td>\n",
       "      <td>80.5</td>\n",
       "    </tr>\n",
       "  </tbody>\n",
       "</table>\n",
       "</div>"
      ],
      "text/plain": [
       "                  wc_group  hp_group  num_users  percent\n",
       "0  exp2_target_specialpage         0     6201.0     20.1\n",
       "1  exp2_target_specialpage         1    24617.0     79.9\n",
       "2                     NONE         0     1522.0     19.5\n",
       "3                     NONE         1     6264.0     80.5"
      ]
     },
     "execution_count": 11,
     "metadata": {},
     "output_type": "execute_result"
    }
   ],
   "source": [
    "group_assignment_stats['percent'] = (100 * group_assignment_stats['num_users'] /\n",
    "                                   group_assignment_stats.groupby('wc_group')['num_users'].transform('sum'))\n",
    "group_assignment_stats.round(1)"
   ]
  },
  {
   "cell_type": "markdown",
   "metadata": {},
   "source": [
    "That's more than reasonably randomized, we can proceed."
   ]
  },
  {
   "cell_type": "markdown",
   "metadata": {},
   "source": [
    "## Helper Functions"
   ]
  },
  {
   "cell_type": "code",
   "execution_count": 21,
   "metadata": {},
   "outputs": [],
   "source": [
    "def make_known_users_sql(kd, wiki_column, user_column):\n",
    "    '''\n",
    "    Based on the dictionary `kd` mapping wiki names to sets of user IDs of known users,\n",
    "    create a SQL expression to exclude users based on the name of the wiki matching `wiki_column`\n",
    "    and the user ID not matching `user_column`\n",
    "    '''\n",
    "    \n",
    "    wiki_exp = '''({w_column} = '{wiki}' AND {u_column} NOT IN ({id_list}))'''\n",
    "    \n",
    "    expressions = list()\n",
    "\n",
    "    ## Iteratively build the expression for each wiki\n",
    "    for wiki_name, wiki_users in kd.items():\n",
    "        expressions.append(wiki_exp.format(\n",
    "            w_column = wiki_column,\n",
    "            wiki = wiki_name,\n",
    "            u_column = user_column,\n",
    "            id_list = ','.join([str(u) for u in wiki_users])\n",
    "        ))\n",
    "    \n",
    "    ## We then join all the expressions with an OR, and we're done.\n",
    "    return(' OR '.join(expressions))\n",
    "    "
   ]
  },
  {
   "cell_type": "markdown",
   "metadata": {},
   "source": [
    "# Dataset of registrations and responses\n",
    "\n",
    "Per [T257490#6416979](https://phabricator.wikimedia.org/T257490#6416979), the features were enabled on 2020-08-27T18:31:46Z. We'll use registrations from that timestamp onwards, limiting them to users who registered directly on the Russian Wikipedia (meaning autocreated accounts are excluded). Other accounts we'll exclude are those of known test accounts.\n",
    "\n",
    "We'll use [MediaWiki history](https://wikitech.wikimedia.org/wiki/Analytics/Data_Lake/Edits/MediaWiki_history) as our data source for user registrations and edits, because it's the most authoritative source for that type of data. At the time of analysis the most recent available snapshot is \"2020-11\", containing data through November 2020. We therefore use registrations up to 2020-11-29 to allow for 24 hours for a possible activation edit for those who registered on that day."
   ]
  },
  {
   "cell_type": "code",
   "execution_count": 18,
   "metadata": {},
   "outputs": [],
   "source": [
    "## Start and end timestamps of data gathering for analysis, per notes above.\n",
    "exp_start_ts = dt.datetime(2020, 8, 27, 18, 31, 46)\n",
    "exp_end_ts = dt.datetime(2020, 11, 29, 0, 0, 0)\n",
    "\n",
    "## The wikis that we're gathering data for, which is only one wiki:\n",
    "wikis = ['ruwiki']\n",
    "\n",
    "## The MediaWiki history snapshot we're using for registrations and edit data\n",
    "wmf_snapshot = '2020-11'\n",
    "\n",
    "## Lists of known users to ignore (e.g. test accounts and experienced users)\n",
    "known_users = defaultdict(set)\n",
    "known_users['cswiki'].update([14, 127629, 303170, 342147, 349875, 44133, 100304, 307410, 439792, 444907,\n",
    "                              454862, 456272, 454003, 454846, 92295, 387915, 398470, 416764, 44751, 132801,\n",
    "                              137787, 138342, 268033, 275298, 317739, 320225, 328302, 339583, 341191,\n",
    "                              357559, 392634, 398626, 404765, 420805, 429109, 443890, 448195, 448438,\n",
    "                              453220, 453628, 453645, 453662, 453663, 453664, 440694, 427497, 272273,\n",
    "                              458025, 458487, 458049, 59563, 118067, 188859, 191908, 314640, 390445,\n",
    "                              451069, 459434, 460802, 460885, 79895, 448735, 453176, 467557, 467745,\n",
    "                              468502, 468583, 468603, 474052, 475184, 475185, 475187, 475188, 294174,\n",
    "                              402906, 298011])\n",
    "\n",
    "known_users['kowiki'].update([303170, 342147, 349875, 189097, 362732, 384066, 416362, 38759, 495265,\n",
    "                              515553, 537326, 566963, 567409, 416360, 414929, 470932, 472019, 485036,\n",
    "                              532123, 558423, 571587, 575553, 576758, 360703, 561281, 595100, 595105,\n",
    "                              595610, 596025, 596651, 596652, 596653, 596654, 596655, 596993, 942,\n",
    "                              13810, 536529])\n",
    "\n",
    "known_users['viwiki'].update([451842, 628512, 628513, 680081, 680083, 680084, 680085, 680086, 355424,\n",
    "                              387563, 443216, 682713, 659235, 700934, 705406, 707272, 707303, 707681, 585762])\n",
    "\n",
    "known_users['arwiki'].update([237660, 272774, 775023, 1175449, 1186377, 1506091, 1515147, 1538902,\n",
    "                              1568858, 1681813, 1683215, 1699418, 1699419, 1699425, 1740419, 1759328, 1763990])\n",
    "\n",
    "## Grab the user IDs of known test accounts so they can be added to the exclusion list\n",
    "\n",
    "def get_known_users(wiki):\n",
    "    '''\n",
    "    Get user IDs of known test accounts and return a set of them.\n",
    "    '''\n",
    "    \n",
    "    username_patterns = [\"MMiller\", \"Zilant\", \"Roan\", \"KHarlan\", \"MWang\", \"SBtest\",\n",
    "                         \"Cloud\", \"Rho2019\", \"Test\"]\n",
    "\n",
    "    known_user_query = '''\n",
    "SELECT user_id\n",
    "FROM user\n",
    "WHERE user_name LIKE \"{name_pattern}%\"\n",
    "    '''\n",
    "    \n",
    "    known_users = set()\n",
    "    \n",
    "    for u_pattern in username_patterns:\n",
    "        new_known = mariadb.run(known_user_query.format(\n",
    "            name_pattern = u_pattern), wiki)\n",
    "        known_users = known_users | set(new_known['user_id'])\n",
    "\n",
    "    return(known_users)\n",
    "        \n",
    "for wiki in wikis:\n",
    "    known_users[wiki] = known_users[wiki] | get_known_users(wiki)"
   ]
  },
  {
   "cell_type": "code",
   "execution_count": 32,
   "metadata": {},
   "outputs": [],
   "source": [
    "group_assignment_query = '''\n",
    "SELECT\n",
    "  \"ruwiki\" AS wiki_db,\n",
    "  up_user AS user_id,\n",
    "  IF(CAST(json_value(up_value, \"$._group\") AS CHAR CHARACTER SET utf8) = \"NONE\",\n",
    "     \"control\", \"survey\") AS user_survey_group\n",
    "FROM user_properties\n",
    "WHERE up_property = \"welcomesurvey-responses\"\n",
    "'''"
   ]
  },
  {
   "cell_type": "code",
   "execution_count": 27,
   "metadata": {},
   "outputs": [],
   "source": [
    "registrations_and_edits_query = '''\n",
    "WITH regs AS (\n",
    "  SELECT\n",
    "    wiki_db,\n",
    "    user_id\n",
    "  FROM wmf.mediawiki_user_history\n",
    "  WHERE snapshot = \"{snapshot}\"\n",
    "  AND wiki_db IN ({wiki_list})\n",
    "  AND ({known_user_id_expression}) -- not a known test account\n",
    "  AND caused_by_event_type = \"create\" -- account creation\n",
    "  AND created_by_self = true -- self-created account\n",
    "  AND size(is_bot_by_historical) = 0 -- is/was not a bot\n",
    "   -- ...and registered within our data gathering window\n",
    "  AND user_registration_timestamp > \"{start_ts}\"\n",
    "  AND user_registration_timestamp < \"{end_ts}\"\n",
    "\n",
    "),\n",
    "edits AS (\n",
    "  SELECT\n",
    "    wiki_db,\n",
    "    event_user_id AS user_id,\n",
    "    SUM(1) AS num_edits\n",
    "  FROM wmf.mediawiki_history\n",
    "  WHERE snapshot = \"{snapshot}\"\n",
    "  AND event_entity = \"revision\"\n",
    "  AND event_type = \"create\"\n",
    "  AND wiki_db IN ({wiki_list})\n",
    "  AND ({known_event_user_id_expression}) -- not a known test account\n",
    "  AND event_user_is_created_by_self = true -- self-created account\n",
    "  AND size(event_user_is_bot_by_historical) = 0 -- is/was not a bot\n",
    "  -- ...and registered within our data gathering window\n",
    "  AND event_user_registration_timestamp > \"{start_ts}\"\n",
    "  AND event_user_registration_timestamp < \"{end_ts}\"\n",
    "\n",
    "  -- activation is editing within 24 hours of registration\n",
    "  AND unix_timestamp(event_timestamp) - unix_timestamp(event_user_registration_timestamp) < 86400\n",
    "  GROUP BY wiki_db, event_user_id\n",
    ")\n",
    "SELECT\n",
    "  regs.wiki_db AS wiki_db,\n",
    "  regs.user_id AS user_id,\n",
    "  IF(num_edits IS NOT NULL, 1, 0) AS did_activate,\n",
    "  coalesce(num_edits, 0) AS num_activation_edits\n",
    "FROM regs\n",
    "LEFT JOIN edits\n",
    "ON (regs.wiki_db = edits.wiki_db\n",
    "    AND regs.user_id = edits.user_id)\n",
    "'''"
   ]
  },
  {
   "cell_type": "code",
   "execution_count": 28,
   "metadata": {},
   "outputs": [],
   "source": [
    "registrations_and_edits = spark.run(registrations_and_edits_query.format(\n",
    "    snapshot = wmf_snapshot,\n",
    "    wiki_list = ','.join(['\"{}\"'.format(w) for w in wikis]),\n",
    "    known_user_id_expression = make_known_users_sql(known_users, 'wiki_db', 'user_id'),\n",
    "    known_event_user_id_expression = make_known_users_sql(known_users, 'wiki_db', 'event_user_id'),\n",
    "    start_ts = exp_start_ts.strftime(utils.hive_format),\n",
    "    end_ts = exp_end_ts.strftime(utils.hive_format)\n",
    "))"
   ]
  },
  {
   "cell_type": "code",
   "execution_count": 33,
   "metadata": {},
   "outputs": [],
   "source": [
    "group_assignments = mariadb.run(group_assignment_query, 'ruwiki')"
   ]
  },
  {
   "cell_type": "code",
   "execution_count": 34,
   "metadata": {},
   "outputs": [],
   "source": [
    "experiment_dataset = registrations_and_edits.merge(group_assignments, how = 'left',\n",
    "                                                   on = ['wiki_db', 'user_id'])"
   ]
  },
  {
   "cell_type": "code",
   "execution_count": 38,
   "metadata": {},
   "outputs": [
    {
     "data": {
      "text/plain": [
       "36060"
      ]
     },
     "execution_count": 38,
     "metadata": {},
     "output_type": "execute_result"
    }
   ],
   "source": [
    "## How many users are in this dataset?\n",
    "\n",
    "len(experiment_dataset)"
   ]
  },
  {
   "cell_type": "code",
   "execution_count": 37,
   "metadata": {},
   "outputs": [
    {
     "data": {
      "text/plain": [
       "5585"
      ]
     },
     "execution_count": 37,
     "metadata": {},
     "output_type": "execute_result"
    }
   ],
   "source": [
    "## How many users do we have without a group assigned?\n",
    "\n",
    "len(experiment_dataset.loc[experiment_dataset['user_survey_group'].isna()])"
   ]
  },
  {
   "cell_type": "code",
   "execution_count": 39,
   "metadata": {},
   "outputs": [
    {
     "data": {
      "text/plain": [
       "0.15488075429839157"
      ]
     },
     "execution_count": 39,
     "metadata": {},
     "output_type": "execute_result"
    }
   ],
   "source": [
    "## What proportion is that?\n",
    "(len(experiment_dataset.loc[experiment_dataset['user_survey_group'].isna()]) /\n",
    " len(experiment_dataset))"
   ]
  },
  {
   "cell_type": "markdown",
   "metadata": {},
   "source": [
    "I suspect that these users are mostly Android/iOS app users. If a user registers an account on the app, it'll show up as a local registration in MediaWiki history. The actual registration is as far as I know done through the API. Having 15.5% of users registered through the app seems reasonable, and we'll exclude these users from our analysis."
   ]
  },
  {
   "cell_type": "code",
   "execution_count": 40,
   "metadata": {},
   "outputs": [],
   "source": [
    "valid_survey_users = experiment_dataset.loc[~experiment_dataset['user_survey_group'].isna()]"
   ]
  },
  {
   "cell_type": "markdown",
   "metadata": {},
   "source": [
    "We'll aggregate and calculate activation proportions for each group."
   ]
  },
  {
   "cell_type": "code",
   "execution_count": 45,
   "metadata": {},
   "outputs": [
    {
     "data": {
      "text/html": [
       "<div>\n",
       "<style scoped>\n",
       "    .dataframe tbody tr th:only-of-type {\n",
       "        vertical-align: middle;\n",
       "    }\n",
       "\n",
       "    .dataframe tbody tr th {\n",
       "        vertical-align: top;\n",
       "    }\n",
       "\n",
       "    .dataframe thead th {\n",
       "        text-align: right;\n",
       "    }\n",
       "</style>\n",
       "<table border=\"1\" class=\"dataframe\">\n",
       "  <thead>\n",
       "    <tr style=\"text-align: right;\">\n",
       "      <th></th>\n",
       "      <th>user_survey_group</th>\n",
       "      <th>did_activate</th>\n",
       "      <th>num_users</th>\n",
       "      <th>percent</th>\n",
       "    </tr>\n",
       "  </thead>\n",
       "  <tbody>\n",
       "    <tr>\n",
       "      <th>0</th>\n",
       "      <td>control</td>\n",
       "      <td>0</td>\n",
       "      <td>3882</td>\n",
       "      <td>63.6</td>\n",
       "    </tr>\n",
       "    <tr>\n",
       "      <th>1</th>\n",
       "      <td>control</td>\n",
       "      <td>1</td>\n",
       "      <td>2220</td>\n",
       "      <td>36.4</td>\n",
       "    </tr>\n",
       "    <tr>\n",
       "      <th>2</th>\n",
       "      <td>survey</td>\n",
       "      <td>0</td>\n",
       "      <td>15300</td>\n",
       "      <td>62.8</td>\n",
       "    </tr>\n",
       "    <tr>\n",
       "      <th>3</th>\n",
       "      <td>survey</td>\n",
       "      <td>1</td>\n",
       "      <td>9073</td>\n",
       "      <td>37.2</td>\n",
       "    </tr>\n",
       "  </tbody>\n",
       "</table>\n",
       "</div>"
      ],
      "text/plain": [
       "  user_survey_group  did_activate  num_users  percent\n",
       "0           control             0       3882     63.6\n",
       "1           control             1       2220     36.4\n",
       "2            survey             0      15300     62.8\n",
       "3            survey             1       9073     37.2"
      ]
     },
     "execution_count": 45,
     "metadata": {},
     "output_type": "execute_result"
    }
   ],
   "source": [
    "activation_aggregation = (valid_survey_users\n",
    "                          .groupby(['user_survey_group', 'did_activate'])\n",
    "                          .agg({'user_id' : 'count'})\n",
    "                          .reset_index()\n",
    "                          .rename(columns = {'user_id' : 'num_users'}))\n",
    "activation_aggregation['percent'] = (100 * activation_aggregation['num_users'] /\n",
    "                                   activation_aggregation.groupby('user_survey_group')['num_users'].transform('sum'))\n",
    "activation_aggregation.round(1)"
   ]
  },
  {
   "cell_type": "markdown",
   "metadata": {},
   "source": [
    "Then we use the `chi2_contingency` method to calculate the chi-squared value based on a 2x2 contingency table. The columns in the table are the counts of users who did or did not activate, the rows are the control and survey groups."
   ]
  },
  {
   "cell_type": "code",
   "execution_count": 60,
   "metadata": {},
   "outputs": [
    {
     "data": {
      "text/plain": [
       "(1.454811389184393,\n",
       " 0.227757490744804,\n",
       " 1,\n",
       " array([[ 3840.80603774,  2261.19396226],\n",
       "        [15341.19396226,  9031.80603774]]))"
      ]
     },
     "execution_count": 60,
     "metadata": {},
     "output_type": "execute_result"
    }
   ],
   "source": [
    "stats.chi2_contingency(\n",
    "    np.array(\n",
    "        [activation_aggregation.loc[activation_aggregation['user_survey_group'] == 'control', 'num_users'],\n",
    "         activation_aggregation.loc[activation_aggregation['user_survey_group'] == 'survey', 'num_users']]\n",
    "    )\n",
    ")"
   ]
  },
  {
   "cell_type": "markdown",
   "metadata": {},
   "source": [
    "We find that the proportion of users who activate in both groups is comparable because the test of proportions do not find a significant difference between the Control group and the Survey group."
   ]
  }
 ],
 "metadata": {
  "kernelspec": {
   "display_name": "Python 3",
   "language": "python",
   "name": "python3"
  },
  "language_info": {
   "codemirror_mode": {
    "name": "ipython",
    "version": 3
   },
   "file_extension": ".py",
   "mimetype": "text/x-python",
   "name": "python",
   "nbconvert_exporter": "python",
   "pygments_lexer": "ipython3",
   "version": "3.7.3"
  }
 },
 "nbformat": 4,
 "nbformat_minor": 4
}

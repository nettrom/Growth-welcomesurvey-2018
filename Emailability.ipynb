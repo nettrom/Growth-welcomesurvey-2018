{
 "cells": [
  {
   "cell_type": "markdown",
   "metadata": {},
   "source": [
    "# Emailability\n",
    "\n",
    "This notebook covers [T214124](https://phabricator.wikimedia.org/T214124), where I should investigate the following:\n",
    "\n",
    "\"Newcomers who have a verified email AND who responded on the welcome survey that they are interested in receiving contact from mentor.\n",
    "\n",
    "We need to see this separately for Korean and Czech, amongst just those newcomers who were in the treatment group for the welcome survey.\"\n",
    "\n",
    "I'll reuse much of the initial code from the Welcome Survey, but extend the data gathering until the most recent full week."
   ]
  },
  {
   "cell_type": "code",
   "execution_count": 1,
   "metadata": {},
   "outputs": [
    {
     "name": "stderr",
     "output_type": "stream",
     "text": [
      "You can find the source for `wmfdata` at https://github.com/neilpquinn/wmfdata\n"
     ]
    }
   ],
   "source": [
    "import json\n",
    "\n",
    "import datetime as dt\n",
    "import pandas as pd\n",
    "\n",
    "from wmfdata import mariadb, hive"
   ]
  },
  {
   "cell_type": "code",
   "execution_count": 2,
   "metadata": {},
   "outputs": [],
   "source": [
    "%load_ext rpy2.ipython"
   ]
  },
  {
   "cell_type": "code",
   "execution_count": 43,
   "metadata": {},
   "outputs": [],
   "source": [
    "## Configuration variables\n",
    "\n",
    "## Czech Wikipedia setup:\n",
    "\n",
    "## User IDs of known users to exclude (Stephane, Elena, and Marshall's accounts)\n",
    "cs_known_users = set([322106, 339583, 341191, 341611, 433381, 433382, 433511, 404765, 421667,\n",
    "                      427625, 437386])\n",
    "\n",
    "## The start timestamp is the registration timestamp of Roan's test account (which we'll\n",
    "## filter out later).\n",
    "cs_start_timestamp = dt.datetime(2018, 11, 19, 20, 0, 0)\n",
    "\n",
    "## We set the end timestamp to be midnight Dec 25. This is mainly motivated by a spambot attack on\n",
    "## Korean Wikipedia, which appears to have started some time on Dec 28. Using Dec 25 means we\n",
    "## measure a set of whole weeks, which matches the weekly cycle that Wikipedias tend to move in.\n",
    "cs_end_timestamp = dt.datetime(2018, 12, 25, 0, 0, 0)\n",
    "\n",
    "## Korean Wikipedia setup:\n",
    "\n",
    "## User IDs of known users to exclude\n",
    "ko_known_users = set([384066, 539296, 539299, 539302, 539303, 539304, 539305, 539306, 539307,\n",
    "                      539298, 416361, 416360, 413162, 495265, 518393, 518394, 518396, 530285,\n",
    "                      531579, 531785, 536786, 536787, 542720, 542721, 542722, 543192, 543193,\n",
    "                      544145, 544283])\n",
    "\n",
    "## Start timestamp is some time prior to the registration timestamp of the first user who\n",
    "## got the survey. In this case, Roan's timestamp works just fine.\n",
    "ko_start_timestamp = dt.datetime(2018, 11, 19, 20, 0, 0)\n",
    "ko_end_timestamp = cs_end_timestamp\n",
    "\n",
    "## Format strings:\n",
    "## MediaWiki database timestamp format\n",
    "mw_format = \"%Y%m%d%H%M%S\"\n",
    "hive_format = \"%Y-%m-%d %H:%M%:S\"\n"
   ]
  },
  {
   "cell_type": "code",
   "execution_count": 44,
   "metadata": {},
   "outputs": [],
   "source": [
    "## Grab the user IDs of all accounts of Growth Team members (particularly their test accounts)\n",
    "## so that they can be excluded from the analysis.\n",
    "\n",
    "username_patterns = [\"MMiller\", \"Zilant\", \"Roan\", \"KHarlan\", \"MWang\"]\n",
    "\n",
    "known_user_query = '''\n",
    "SELECT user_id\n",
    "FROM {wiki}.user\n",
    "WHERE user_registration >= \"{start_timestamp}\"\n",
    "AND user_name LIKE \"{name_pattern}%\"\n",
    "'''\n",
    "\n",
    "for u_pattern in username_patterns:\n",
    "    cs_known = mariadb.run(known_user_query.format(\n",
    "        wiki = 'cswiki',\n",
    "        start_timestamp = cs_start_timestamp.strftime(mw_format),\n",
    "        name_pattern = u_pattern), fmt = 'raw')\n",
    "    cs_known_users = cs_known_users | set([r[0] for r in cs_known])\n",
    "\n",
    "for u_pattern in username_patterns:\n",
    "    ko_known = mariadb.run(known_user_query.format(\n",
    "        wiki = 'kowiki',\n",
    "        start_timestamp = cs_start_timestamp.strftime(mw_format),\n",
    "        name_pattern = u_pattern), fmt = 'raw')\n",
    "    ko_known_users = ko_known_users | set([r[0] for r in ko_known])"
   ]
  },
  {
   "cell_type": "code",
   "execution_count": 9,
   "metadata": {},
   "outputs": [],
   "source": [
    "## Query to retrieve the user ID and whether the registration was on the mobile site\n",
    "## for all non-autocreated non-app registrations between the given timestamps for the given wiki.\n",
    "\n",
    "mob_query = '''SELECT event.userid, event.displaymobile\n",
    "FROM event.serversideaccountcreation\n",
    "WHERE year = 2018\n",
    "AND month >= 11\n",
    "AND dt BETWEEN \"{start_timestamp}\" AND \"{end_timestamp}\"\n",
    "AND event.isapi = 0\n",
    "AND event.isselfmade = 1\n",
    "AND wiki = \"{wiki}\"\n",
    "AND event.userid NOT IN ({idlist})\n",
    "'''\n",
    "\n",
    "cs_users_raw = hive.run(mob_query.format(\n",
    "  start_timestamp = cs_start_timestamp.strftime(hive_format),\n",
    "  end_timestamp = cs_end_timestamp.strftime(hive_format),\n",
    "  wiki = 'cswiki',\n",
    "  idlist = ','.join([str(uid) for uid in cs_known_users])))\n",
    "\n",
    "ko_users_raw = hive.run(mob_query.format(\n",
    "  start_timestamp = ko_start_timestamp.strftime(hive_format),\n",
    "  end_timestamp = ko_end_timestamp.strftime(hive_format),\n",
    "  wiki = 'kowiki',\n",
    "  idlist = ','.join([str(uid) for uid in ko_known_users])))"
   ]
  },
  {
   "cell_type": "code",
   "execution_count": 11,
   "metadata": {},
   "outputs": [],
   "source": [
    "## Query to MW database to get info on all users who were in the survey group\n",
    "\n",
    "group_query = '''\n",
    "SELECT up_user,\n",
    "  CASE\n",
    "    WHEN up_value LIKE \"%exp1_group2%\" THEN \"control\"\n",
    "    WHEN up_value LIKE \"%exp1_group1%\" THEN \"target\"\n",
    "  END AS exp_group\n",
    "FROM {wiki}.user_properties\n",
    "WHERE up_property = \"welcomesurvey-responses\"\n",
    "AND up_user IN ({id_list})\n",
    "AND up_value <> \"\"\n",
    "'''\n",
    "\n",
    "cs_groups_raw = mariadb.run(group_query.format(\n",
    "    wiki = 'cswiki',\n",
    "    start_timestamp = cs_start_timestamp,\n",
    "    end_timestamp = cs_end_timestamp,\n",
    "    id_list = \",\".join([str(id) for id in cs_users_raw['userid']])))\n",
    "\n",
    "ko_groups_raw = mariadb.run(group_query.format(\n",
    "    wiki = 'kowiki',\n",
    "    start_timestamp = ko_start_timestamp,\n",
    "    end_timestamp = ko_end_timestamp,\n",
    "    id_list = \",\".join([str(id) for id in ko_users_raw['userid']])))"
   ]
  },
  {
   "cell_type": "code",
   "execution_count": 18,
   "metadata": {},
   "outputs": [],
   "source": [
    "## 1: responded that they were open to be contacted by a mentor\n",
    "\n",
    "mentor_query = '''\n",
    "SELECT up_user\n",
    "FROM {wiki}.user_properties\n",
    "WHERE up_property = 'welcomesurvey-responses' \n",
    "AND up_value LIKE '%\"mentor\":true%exp1_group1%'\n",
    "AND up_user IN ({id_list})\n",
    "'''\n",
    "\n",
    "cs_mentor = mariadb.run(mentor_query.format(\n",
    "    wiki = 'cswiki',\n",
    "    id_list = \",\".join(\n",
    "        [str(id) for id in\n",
    "         cs_groups_raw.loc[cs_groups_raw['exp_group'] == 'target']['up_user']])))\n",
    "\n",
    "ko_mentor = mariadb.run(mentor_query.format(\n",
    "    wiki = 'kowiki',\n",
    "    id_list = \",\".join(\n",
    "        [str(id) for id in\n",
    "         ko_groups_raw.loc[ko_groups_raw['exp_group'] == 'target']['up_user']])))"
   ]
  },
  {
   "cell_type": "code",
   "execution_count": 46,
   "metadata": {},
   "outputs": [],
   "source": [
    "## 2: have a verified email address\n",
    "\n",
    "verified_email_query = '''\n",
    "SELECT user_id\n",
    "FROM {wiki}.user\n",
    "WHERE user_id IN ({id_list})\n",
    "AND user_email_authenticated IS NOT NULL\n",
    "'''\n",
    "\n",
    "cs_verified = mariadb.run(verified_email_query.format(\n",
    "    wiki = 'cswiki',\n",
    "    id_list = \",\".join(\n",
    "        [str(id) for id in\n",
    "         cs_groups_raw.loc[cs_groups_raw['exp_group'] == 'target']['up_user']])))\n",
    "\n",
    "ko_verified = mariadb.run(verified_email_query.format(\n",
    "    wiki = 'kowiki',\n",
    "    id_list = \",\".join(\n",
    "        [str(id) for id in\n",
    "         ko_groups_raw.loc[ko_groups_raw['exp_group'] == 'target']['up_user']])))\n"
   ]
  },
  {
   "cell_type": "code",
   "execution_count": 47,
   "metadata": {},
   "outputs": [],
   "source": [
    "## Add relevant columns to the opt-in and verified email datasets\n",
    "\n",
    "cs_mentor['mentor_opt_in'] = True\n",
    "ko_mentor['mentor_opt_in'] = True\n",
    "\n",
    "cs_verified['has_verified_email'] = True\n",
    "ko_verified['has_verified_email'] = True"
   ]
  },
  {
   "cell_type": "code",
   "execution_count": 48,
   "metadata": {},
   "outputs": [],
   "source": [
    "## Left join all the things\n",
    "\n",
    "cs_users = pd.merge(cs_groups_raw.loc[cs_groups_raw['exp_group'] == 'target'],\n",
    "                    cs_mentor, how = 'left', on = 'up_user')\n",
    "cs_users = pd.merge(cs_users, cs_verified, how = 'left', left_on = 'up_user', right_on = 'user_id')\n",
    "\n",
    "ko_users = pd.merge(ko_groups_raw.loc[ko_groups_raw['exp_group'] == 'target'],\n",
    "                    ko_mentor, how = 'left', on = 'up_user')\n",
    "ko_users = pd.merge(ko_users, ko_verified, how = 'left', left_on = 'up_user', right_on = 'user_id')\n",
    "\n",
    "cs_users = cs_users.drop(['exp_group', 'user_id'], axis = 1)\n",
    "ko_users = ko_users.drop(['exp_group', 'user_id'], axis = 1)\n",
    "\n",
    "cs_users = cs_users.fillna(False)\n",
    "ko_users = ko_users.fillna(False)"
   ]
  },
  {
   "cell_type": "code",
   "execution_count": 51,
   "metadata": {},
   "outputs": [
    {
     "data": {
      "text/plain": [
       "816"
      ]
     },
     "execution_count": 51,
     "metadata": {},
     "output_type": "execute_result"
    }
   ],
   "source": [
    "## Number of users in the survey group:\n",
    "\n",
    "cs_users['up_user'].nunique()"
   ]
  },
  {
   "cell_type": "code",
   "execution_count": 53,
   "metadata": {},
   "outputs": [
    {
     "data": {
      "text/plain": [
       "51"
      ]
     },
     "execution_count": 53,
     "metadata": {},
     "output_type": "execute_result"
    }
   ],
   "source": [
    "## Number of users who meet both conditions:\n",
    "cs_users.loc[(cs_users['mentor_opt_in'] == True) &\n",
    "                   (cs_users['has_verified_email'] == True)]['up_user'].nunique()\n"
   ]
  },
  {
   "cell_type": "code",
   "execution_count": 49,
   "metadata": {},
   "outputs": [
    {
     "data": {
      "text/plain": [
       "6.2"
      ]
     },
     "execution_count": 49,
     "metadata": {},
     "output_type": "execute_result"
    }
   ],
   "source": [
    "## So, what proportion of all survey users have those two properties set?\n",
    "## Czech Wikipedia:\n",
    "round(100 *\n",
    "      cs_users.loc[(cs_users['mentor_opt_in'] == True) &\n",
    "                   (cs_users['has_verified_email'] == True)]['up_user'].nunique() /\n",
    "      cs_users['up_user'].nunique(), 1)"
   ]
  },
  {
   "cell_type": "code",
   "execution_count": 56,
   "metadata": {},
   "outputs": [
    {
     "data": {
      "text/plain": [
       "202"
      ]
     },
     "execution_count": 56,
     "metadata": {},
     "output_type": "execute_result"
    }
   ],
   "source": [
    "## How many Czech users have a verified email address?\n",
    "\n",
    "cs_users.loc[cs_users['has_verified_email'] == True]['up_user'].nunique()"
   ]
  },
  {
   "cell_type": "code",
   "execution_count": 58,
   "metadata": {},
   "outputs": [
    {
     "data": {
      "text/plain": [
       "188"
      ]
     },
     "execution_count": 58,
     "metadata": {},
     "output_type": "execute_result"
    }
   ],
   "source": [
    "## How many Czech users opted in?\n",
    "\n",
    "cs_users.loc[cs_users['mentor_opt_in'] == True]['up_user'].nunique()"
   ]
  },
  {
   "cell_type": "code",
   "execution_count": 52,
   "metadata": {},
   "outputs": [
    {
     "data": {
      "text/plain": [
       "1063"
      ]
     },
     "execution_count": 52,
     "metadata": {},
     "output_type": "execute_result"
    }
   ],
   "source": [
    "## Same, but for Korean:\n",
    "\n",
    "ko_users['up_user'].nunique()"
   ]
  },
  {
   "cell_type": "code",
   "execution_count": 54,
   "metadata": {},
   "outputs": [
    {
     "data": {
      "text/plain": [
       "76"
      ]
     },
     "execution_count": 54,
     "metadata": {},
     "output_type": "execute_result"
    }
   ],
   "source": [
    "ko_users.loc[(ko_users['mentor_opt_in'] == True) &\n",
    "                   (ko_users['has_verified_email'] == True)]['up_user'].nunique()"
   ]
  },
  {
   "cell_type": "code",
   "execution_count": 50,
   "metadata": {},
   "outputs": [
    {
     "data": {
      "text/plain": [
       "7.1"
      ]
     },
     "execution_count": 50,
     "metadata": {},
     "output_type": "execute_result"
    }
   ],
   "source": [
    "## Korean Wikipedia:\n",
    "round(100 *\n",
    "      ko_users.loc[(ko_users['mentor_opt_in'] == True) &\n",
    "                   (ko_users['has_verified_email'] == True)]['up_user'].nunique() /\n",
    "      ko_users['up_user'].nunique(), 1)"
   ]
  },
  {
   "cell_type": "code",
   "execution_count": 57,
   "metadata": {},
   "outputs": [
    {
     "data": {
      "text/plain": [
       "150"
      ]
     },
     "execution_count": 57,
     "metadata": {},
     "output_type": "execute_result"
    }
   ],
   "source": [
    "## How many Korean users have a verified email address?\n",
    "\n",
    "ko_users.loc[ko_users['has_verified_email'] == True]['up_user'].nunique()"
   ]
  },
  {
   "cell_type": "code",
   "execution_count": 59,
   "metadata": {},
   "outputs": [
    {
     "data": {
      "text/plain": [
       "329"
      ]
     },
     "execution_count": 59,
     "metadata": {},
     "output_type": "execute_result"
    }
   ],
   "source": [
    "## How many Korean users opted in?\n",
    "\n",
    "ko_users.loc[ko_users['mentor_opt_in'] == True]['up_user'].nunique()"
   ]
  }
 ],
 "metadata": {
  "kernelspec": {
   "display_name": "Python 3",
   "language": "python",
   "name": "python3"
  },
  "language_info": {
   "codemirror_mode": {
    "name": "ipython",
    "version": 3
   },
   "file_extension": ".py",
   "mimetype": "text/x-python",
   "name": "python",
   "nbconvert_exporter": "python",
   "pygments_lexer": "ipython3",
   "version": "3.5.3"
  }
 },
 "nbformat": 4,
 "nbformat_minor": 2
}
